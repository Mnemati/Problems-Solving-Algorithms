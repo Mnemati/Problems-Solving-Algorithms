{
 "cells": [
  {
   "cell_type": "code",
   "execution_count": 21,
   "metadata": {},
   "outputs": [],
   "source": [
    "#first solution\n",
    "class Solution(object):\n",
    "    def canCompleteCircuit(self, gas, cost):\n",
    "        \"\"\"\n",
    "        :type gas: List[int]\n",
    "        :type cost: List[int]\n",
    "        :rtype: int\n",
    "        \"\"\"\n",
    "\n",
    "        for i in range(len(gas)):\n",
    "            reserve = 0\n",
    "            ''' \n",
    "            the logic is that I start from the i'th station. I know the cost and I know how much gas I have. if \n",
    "            at any point the reserve become negative we cannot continure the trip. \n",
    "            So I am using a bruteforce method by considering all the stations I can start with. \n",
    "            '''\n",
    "            for j in range(i, i+len(gas)):\n",
    "                ''' \n",
    "                Here I want to loop from index i to the end of the list and then start from the beginning of the\n",
    "                list to the index before index i. \n",
    "                '''\n",
    "                index = j%len(gas)\n",
    "                reserve+= gas[index] - cost[index]  # gas[index] - cost[index] is the amount of gas we have after we go from station i to i+1 \n",
    "                if reserve <0:\n",
    "                    break \n",
    "            if reserve >=0: # if at the end of trip it's greater than or equal to zero, we could finish a loop!\n",
    "                return i\n",
    "        return -1\n",
    "                \n",
    "# This method is correct by I need to find a method that is faster bc it gives running time error!"
   ]
  },
  {
   "cell_type": "code",
   "execution_count": 31,
   "metadata": {},
   "outputs": [],
   "source": [
    "class Solution():\n",
    "    def canCompleteCircuit(self, gas, cost):\n",
    "        '''\n",
    "        the logic im using rn is that I cum the the cost of going from the first place and going back to that. How like gas[i] = 1 and cost[i] = 3, the \n",
    "        reserved_gas is going to be -2. I calculate that for all the indeces. If that's negative, we know that it's not possible to finish the round\n",
    "        and immediately return 0\n",
    "        '''\n",
    "        ''' This time I first detect the possible starting point and then explore all of them'''\n",
    "        pos_index = []\n",
    "        reserved = 0\n",
    "        for i in range(len(gas)):\n",
    "            value = gas[i] - cost[i]\n",
    "            reserved += value\n",
    "            if value >= 0:\n",
    "                pos_index.append(i)\n",
    "                \n",
    "        if reserved < 0:\n",
    "            return -1\n",
    "        \n",
    "       \n",
    "\n",
    "        for j in pos_index:\n",
    "            reserved = 0\n",
    "            for k in range(j, j+len(gas)):\n",
    "                index = k%len(gas)\n",
    "                value = gas[index] - cost[index]\n",
    "                reserved += value\n",
    "                print(reserved)\n",
    "                if reserved<0: \n",
    "                    break\n",
    "            if reserved >=0:\n",
    "                return j\n",
    "        \n",
    "        return -1\n",
    "\n",
    "\n",
    "''' This approach is also slow'''\n",
    "\n",
    "        \n",
    "        "
   ]
  },
  {
   "cell_type": "code",
   "execution_count": 36,
   "metadata": {},
   "outputs": [],
   "source": [
    "class Solution():\n",
    "    def canCompleteCircuit(self, gas, cost):\n",
    "\n",
    "        ''' This is greedy problem. In order to solve the problem we will look to see if we can go from a station to the next station\n",
    "        in the meantime we keep track of all the feul we have in the car. this value can be negative. if at the end this value is negative\n",
    "        we know that we cannot complete the trip! \n",
    "        '''\n",
    "        reserved = 0\n",
    "        current_trip = 0\n",
    "        start = 0\n",
    "\n",
    "        for i in range(len(gas)):\n",
    "            reserved += gas[i] - cost[i]\n",
    "            current_trip +=  gas[i] - cost[i] # the reason for += is that if we are at index 3 and we can go to index 4, it means that we can \n",
    "                                              # explore going from station 4 to station 5. if the cost of going to station 4 to 5 is so high, \n",
    "                                              # then we know that we can go from 3 to 4 but not 4 to 5 so now we know 3 and 4 cannot be the staring point\n",
    "                                              # and we'll go and explore the other indeces\n",
    "            \n",
    "            if current_trip < 0:\n",
    "                start = i+1\n",
    "                current_trip = 0\n",
    "\n",
    "        if reserved >=0:\n",
    "            return start\n",
    "        else:\n",
    "            return -1\n",
    "        \n",
    "# this is being done in O(n) Yayyy finally solved the question!\n",
    "        "
   ]
  },
  {
   "cell_type": "code",
   "execution_count": 37,
   "metadata": {},
   "outputs": [
    {
     "name": "stdout",
     "output_type": "stream",
     "text": [
      "4\n"
     ]
    }
   ],
   "source": [
    "s = Solution()\n",
    "gas = [5,1,2,3,4]\n",
    "cost = [4,4,1,5,1]\n",
    "out = s.canCompleteCircuit(gas, cost)\n",
    "print(out)"
   ]
  }
 ],
 "metadata": {
  "kernelspec": {
   "display_name": "Python 3",
   "language": "python",
   "name": "python3"
  },
  "language_info": {
   "codemirror_mode": {
    "name": "ipython",
    "version": 3
   },
   "file_extension": ".py",
   "mimetype": "text/x-python",
   "name": "python",
   "nbconvert_exporter": "python",
   "pygments_lexer": "ipython3",
   "version": "3.9.13"
  }
 },
 "nbformat": 4,
 "nbformat_minor": 2
}
