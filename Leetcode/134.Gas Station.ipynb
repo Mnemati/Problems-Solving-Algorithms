{
 "cells": [
  {
   "cell_type": "code",
   "execution_count": 1,
   "metadata": {},
   "outputs": [],
   "source": [
    "#first solution\n",
    "class Solution(object):\n",
    "    def canCompleteCircuit(self, gas, cost):\n",
    "        \"\"\"\n",
    "        :type gas: List[int]\n",
    "        :type cost: List[int]\n",
    "        :rtype: int\n",
    "        \"\"\"\n",
    "\n",
    "        for i in range(len(gas)):\n",
    "            reserve = 0\n",
    "            ''' \n",
    "            the logic is that I start from the i'th station. I know the cost and I know how much gas I have. if \n",
    "            at any point the reserve become negative we cannot continure the trip. \n",
    "            So I am using a bruteforce method by considering all the stations I can start with. \n",
    "            '''\n",
    "            for j in range(i, i+len(gas)):\n",
    "                ''' \n",
    "                Here I want to loop from index i to the end of the list and then start from the beginning of the\n",
    "                list to the index before index i. \n",
    "                '''\n",
    "                index = j%len(gas)\n",
    "                reserve+= gas[index] - cost[index]  # gas[index] - cost[index] is the amount of gas we have after we go from station i to i+1 \n",
    "                if reserve <0:\n",
    "                    break \n",
    "            if reserve >=0: # if at the end of trip it's greater than or equal to zero, we could finish a loop!\n",
    "                return i\n",
    "        return -1\n",
    "                \n",
    "# This method is correct by I need to find a method that is faster bc it gives running time error!"
   ]
  },
  {
   "cell_type": "code",
   "execution_count": null,
   "metadata": {},
   "outputs": [],
   "source": []
  }
 ],
 "metadata": {
  "kernelspec": {
   "display_name": "Python 3",
   "language": "python",
   "name": "python3"
  },
  "language_info": {
   "codemirror_mode": {
    "name": "ipython",
    "version": 3
   },
   "file_extension": ".py",
   "mimetype": "text/x-python",
   "name": "python",
   "nbconvert_exporter": "python",
   "pygments_lexer": "ipython3",
   "version": "3.9.13"
  }
 },
 "nbformat": 4,
 "nbformat_minor": 2
}
