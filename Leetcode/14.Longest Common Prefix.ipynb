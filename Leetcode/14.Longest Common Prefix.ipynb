{
 "cells": [
  {
   "cell_type": "markdown",
   "metadata": {},
   "source": [
    "- leetcode examples\n",
    "    - flower, flow, flight ---> fl\n",
    "    - dog, racecar, car ---> ''\n",
    "\n",
    "- think of some other examples myself:\n",
    "    - if length of one of the words zero, then immediately return ''\n",
    "\n",
    "\n"
   ]
  },
  {
   "cell_type": "markdown",
   "metadata": {},
   "source": [
    "- Solution Strategies\n",
    "    - Use recursive algorithm. \n",
    "        - It checks the first string of all words, if they are similar, then it checks the rest of the words\n",
    "    - While loop:\n",
    "        - it loops through all the words that exist in the list. while i<len(smallest word)"
   ]
  },
  {
   "cell_type": "code",
   "execution_count": 16,
   "metadata": {},
   "outputs": [],
   "source": [
    "class Solution:\n",
    "    def longestCommonPrefix(self, strs):\n",
    "        # strs is a list of words\n",
    "        \n",
    "\n",
    "        #fild lengh of smallest word\n",
    "        min_length = float('inf')\n",
    "        for word in strs:\n",
    "            if len(word) < min_length:\n",
    "                min_length = len(word)\n",
    "\n",
    "\n",
    "        lcp = ''\n",
    "        i=0\n",
    "        break_out = None\n",
    "        while i < min_length:\n",
    "            j = 0\n",
    "            while j < len(strs)-1:\n",
    "                if strs[j][i] != strs[j+1][i]:\n",
    "                    break_out = True\n",
    "                    break\n",
    "                else:\n",
    "                    j+=1\n",
    "            if break_out == True:\n",
    "                break\n",
    "            if j == len(strs)-1:\n",
    "                lcp += strs[j][i]\n",
    "            else:\n",
    "                break\n",
    "            i += 1\n",
    "\n",
    "        return lcp"
   ]
  },
  {
   "cell_type": "markdown",
   "metadata": {},
   "source": [
    "- ['flower', 'flow', 'flaw']\n",
    "    - min_length ---> 4\n",
    "    - i = 0, j=0, strs[j][i] != strs[j+1][i] ---> strs[0][0] != strs[1][0]\n"
   ]
  },
  {
   "cell_type": "code",
   "execution_count": null,
   "metadata": {},
   "outputs": [],
   "source": [
    "class Solution():\n",
    "    def longestCommonPrefix(self, strs):\n",
    "\n",
    "        zipped_list = list(zip(*strs))\n",
    "\n",
    "        lcp = ''\n",
    "        for elem in zipped_list:\n",
    "            if len(set(elem)) == 1:\n",
    "                lcp += elem[0]\n",
    "            else:\n",
    "                break\n",
    "        return lcp\n",
    "\n",
    "\n"
   ]
  },
  {
   "cell_type": "code",
   "execution_count": 19,
   "metadata": {},
   "outputs": [
    {
     "data": {
      "text/plain": [
       "''"
      ]
     },
     "execution_count": 19,
     "metadata": {},
     "output_type": "execute_result"
    }
   ],
   "source": [
    "s = Solution()\n",
    "s.longestCommonPrefix([\"dog\",\"racecar\",\"car\"])"
   ]
  }
 ],
 "metadata": {
  "kernelspec": {
   "display_name": "Python 3",
   "language": "python",
   "name": "python3"
  },
  "language_info": {
   "codemirror_mode": {
    "name": "ipython",
    "version": 3
   },
   "file_extension": ".py",
   "mimetype": "text/x-python",
   "name": "python",
   "nbconvert_exporter": "python",
   "pygments_lexer": "ipython3",
   "version": "3.9.13"
  }
 },
 "nbformat": 4,
 "nbformat_minor": 2
}
