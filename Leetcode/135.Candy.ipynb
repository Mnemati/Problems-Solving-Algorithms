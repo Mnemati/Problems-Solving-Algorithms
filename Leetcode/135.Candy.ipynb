{
 "cells": [
  {
   "cell_type": "code",
   "execution_count": null,
   "metadata": {},
   "outputs": [],
   "source": [
    "class Solution(object):\n",
    "    def candy(self, ratings):\n",
    "        \"\"\"\n",
    "        :type ratings: List[int]\n",
    "        :rtype: int\n",
    "        \"\"\"\n",
    "        ''' \n",
    "        be carefull that each elements has 2 neighbors, so I need to consider 2 neighbors once I want to allocate the candies to them\n",
    "        [1,0,2] --> 5 candies\n",
    "        [1,2,2] --> 4 candies bc 2 needs 1 more candy than 1 and since the last rating is not greater than 2, if it has less candies that's fine\n",
    "    \n",
    "\n",
    "        [1,2,3,3,2,1] --> this needs 1,2,3,3,2,1 candies\n",
    "        what if we sort?\n",
    "        [1,1,2,2,3,3] --> this needs 1,1,2,1,2,1 candies\n",
    "        so sorting the array changes the number of candies\n",
    "\n",
    "        [1,2,3,4,5,6] --> 1,2,3,4,5,6 candies needed here\n",
    "\n",
    "        First thought: I need to take into the sequences, either downward or upward and based of  the sequences I need to the number of candies!\n",
    "        so when the sequence is increasing, then I'll calculate the number of element in the increasing sequence. Imaging there is 2 element in\n",
    "        that sequence. so we need 1+2 candies. Then we start from the next element. The same goes with a decreasing sequence. if the two elements \n",
    "        are equal next to each other, we end the sequence and we start the sequence from the next 1. [1,1,2]. [1], [1,2] --> 1+3 = 4\n",
    "        we also need to save the last element of each sequence. if the next element after sequence is greater, then we start by adding 2 candies. \n",
    "        if it's less or equal, we start by adding 1 candy\n",
    "        \n",
    "        '''\n",
    "\n",
    "        inc = None # determining whether a sequence is increasing (True)\n",
    "        dec = None\n",
    "\n",
    "        num_elem_chain = 0\n",
    "        last_elem_chain = None\n",
    "\n",
    "        for i in range(len(ratings)):\n",
    "            \n",
    "            \n",
    "            \n",
    "\n",
    "\n",
    "\n",
    "\n",
    "\n",
    "        return # sum of candy_num\n",
    "\n",
    "\n",
    "\n",
    "\n",
    "        "
   ]
  },
  {
   "cell_type": "code",
   "execution_count": 5,
   "metadata": {},
   "outputs": [
    {
     "data": {
      "text/plain": [
       "[1, 1, 1, 1, 1]"
      ]
     },
     "execution_count": 5,
     "metadata": {},
     "output_type": "execute_result"
    }
   ],
   "source": [
    "candy = [1 for x in range(5)]\n",
    "candy"
   ]
  }
 ],
 "metadata": {
  "kernelspec": {
   "display_name": "Python 3",
   "language": "python",
   "name": "python3"
  },
  "language_info": {
   "codemirror_mode": {
    "name": "ipython",
    "version": 3
   },
   "file_extension": ".py",
   "mimetype": "text/x-python",
   "name": "python",
   "nbconvert_exporter": "python",
   "pygments_lexer": "ipython3",
   "version": "3.9.13"
  }
 },
 "nbformat": 4,
 "nbformat_minor": 2
}
