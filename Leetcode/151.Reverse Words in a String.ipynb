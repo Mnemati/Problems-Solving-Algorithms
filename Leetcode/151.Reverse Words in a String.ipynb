{
 "cells": [
  {
   "cell_type": "markdown",
   "metadata": {},
   "source": [
    "- Examples\n",
    "    - '   hello     world   ' ---> 'world hello'"
   ]
  },
  {
   "cell_type": "markdown",
   "metadata": {},
   "source": [
    "- Strategies\n",
    "    1. remove extra spaces. Then add the words to a list, then reverse the list and finally use ' '.join(ls)"
   ]
  },
  {
   "cell_type": "code",
   "execution_count": 15,
   "metadata": {},
   "outputs": [],
   "source": [
    "class Solution(object):\n",
    "    def reverseWords(self, s):\n",
    "        \"\"\"\n",
    "        :type s: str\n",
    "        :rtype: str\n",
    "        \"\"\"\n",
    "\n",
    "\n",
    "        word = ''\n",
    "        word_ls = []\n",
    "        i = 0\n",
    "        while i<len(s):\n",
    "            if s[i] == ' ':\n",
    "                if word != '':\n",
    "                    word_ls.append(word)\n",
    "                word = ''\n",
    "            else:\n",
    "                word += s[i]\n",
    "                \n",
    "            i += 1\n",
    "        if word != '':\n",
    "            word_ls.append(word)\n",
    "        word_ls = word_ls[::-1]\n",
    "        \n",
    "        return ' '.join(word_ls)"
   ]
  },
  {
   "cell_type": "code",
   "execution_count": 17,
   "metadata": {},
   "outputs": [
    {
     "name": "stderr",
     "output_type": "stream",
     "text": [
      ".\n",
      "----------------------------------------------------------------------\n",
      "Ran 1 test in 0.003s\n",
      "\n",
      "OK\n"
     ]
    },
    {
     "name": "stdout",
     "output_type": "stream",
     "text": [
      "All tests passed!\n"
     ]
    }
   ],
   "source": [
    "import unittest\n",
    "\n",
    "class TestreverseWords(unittest.TestCase):\n",
    "    def test_reverse_words(self):\n",
    "        solution = Solution()\n",
    "        \n",
    "\n",
    "        self.assertEqual(solution.reverseWords('   hello    word   '), 'word hello')\n",
    "        self.assertEqual(solution.reverseWords('arsenal is famous for being gunner'), 'gunner being for famous is arsenal')\n",
    "\n",
    "\n",
    "# Load the test suite\n",
    "test_suite = unittest.defaultTestLoader.loadTestsFromTestCase(TestreverseWords)\n",
    "\n",
    "# Run the tests and display the results in the notebook\n",
    "test_runner = unittest.TextTestRunner()\n",
    "test_result = test_runner.run(test_suite)\n",
    "\n",
    "# Check if all tests passed\n",
    "if test_result.wasSuccessful():\n",
    "    print(\"All tests passed!\")\n",
    "else:\n",
    "    print(\"Some tests failed.\")"
   ]
  },
  {
   "cell_type": "code",
   "execution_count": null,
   "metadata": {},
   "outputs": [],
   "source": []
  }
 ],
 "metadata": {
  "kernelspec": {
   "display_name": "Python 3",
   "language": "python",
   "name": "python3"
  },
  "language_info": {
   "codemirror_mode": {
    "name": "ipython",
    "version": 3
   },
   "file_extension": ".py",
   "mimetype": "text/x-python",
   "name": "python",
   "nbconvert_exporter": "python",
   "pygments_lexer": "ipython3",
   "version": "3.9.13"
  }
 },
 "nbformat": 4,
 "nbformat_minor": 2
}
