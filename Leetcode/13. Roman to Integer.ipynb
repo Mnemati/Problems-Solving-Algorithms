{
 "cells": [
  {
   "cell_type": "code",
   "execution_count": 28,
   "metadata": {},
   "outputs": [],
   "source": [
    "class Solution:\n",
    "    # a dictionary for the values corresponding to each roman string is written here\n",
    "    rmt = {'I': 1, 'V' : 5, 'X':10, 'L':50, 'C':100, 'D':500, 'M':1000}\n",
    "    rmt_negative = {'IV': 4, 'IX': 9, 'XL':40, 'XC':90, 'CD':400, 'CM':900}\n",
    "    def romanToInteger(self, s):\n",
    "        out = 0 # we start the summation by zero\n",
    "        i = 0 # this is the counter\n",
    "        while i< len(s)-1: # because we want to check to characters in a row, we consider len(s)-1. Otherwise we're gonna get out of index at the end\n",
    "            \n",
    "            if s[i]+ s[i+1] in Solution.rmt_negative:\n",
    "                #if the combination exist in the second dict, we add that to the sum. and then jump by two steps\n",
    "                out += Solution.rmt_negative[s[i]+ s[i+1]]\n",
    "                i+=2\n",
    "            else:\n",
    "                \n",
    "                out += Solution.rmt[s[i]]\n",
    "                i+=1\n",
    "        # we use this in case there is one string left at the end! \n",
    "        # if we jumped before two times and the loop is finished, it means that we have finished the string\n",
    "      \n",
    "        if i == len(s)-1:\n",
    "            out += Solution.rmt[s[i]]\n",
    "\n",
    "        return out\n",
    "\n",
    "\n",
    "\n"
   ]
  },
  {
   "cell_type": "code",
   "execution_count": 40,
   "metadata": {},
   "outputs": [
    {
     "name": "stderr",
     "output_type": "stream",
     "text": [
      ".\n",
      "----------------------------------------------------------------------\n",
      "Ran 1 test in 0.003s\n",
      "\n",
      "OK\n"
     ]
    },
    {
     "name": "stdout",
     "output_type": "stream",
     "text": [
      "All tests passed!\n"
     ]
    }
   ],
   "source": [
    "import unittest\n",
    "\n",
    "class TestRomanToInteger(unittest.TestCase):\n",
    "    def test_roman_to_integer(self):\n",
    "        solution = Solution()\n",
    "        \n",
    "        # Test case 1: 'III' should return 3\n",
    "        self.assertEqual(solution.romanToInteger('III'), 3)\n",
    "        self.assertEqual(solution.romanToInteger('IIV'), 5)\n",
    "        self.assertEqual(solution.romanToInteger(\"LVIII\"), 58)\n",
    "\n",
    "# Load the test suite\n",
    "test_suite = unittest.defaultTestLoader.loadTestsFromTestCase(TestRomanToInteger)\n",
    "\n",
    "# Run the tests and display the results in the notebook\n",
    "test_runner = unittest.TextTestRunner()\n",
    "test_result = test_runner.run(test_suite)\n",
    "\n",
    "# Check if all tests passed\n",
    "if test_result.wasSuccessful():\n",
    "    print(\"All tests passed!\")\n",
    "else:\n",
    "    print(\"Some tests failed.\")"
   ]
  }
 ],
 "metadata": {
  "kernelspec": {
   "display_name": "Python 3",
   "language": "python",
   "name": "python3"
  },
  "language_info": {
   "codemirror_mode": {
    "name": "ipython",
    "version": 3
   },
   "file_extension": ".py",
   "mimetype": "text/x-python",
   "name": "python",
   "nbconvert_exporter": "python",
   "pygments_lexer": "ipython3",
   "version": "3.9.13"
  }
 },
 "nbformat": 4,
 "nbformat_minor": 2
}
